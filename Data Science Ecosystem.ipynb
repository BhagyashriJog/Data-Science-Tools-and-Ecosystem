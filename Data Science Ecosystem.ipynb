{
 "cells": [
  {
   "cell_type": "markdown",
   "id": "7dfe9aeb",
   "metadata": {},
   "source": [
    "# Data Science Tools and Ecosystem #"
   ]
  },
  {
   "cell_type": "markdown",
   "id": "9186567c",
   "metadata": {},
   "source": [
    "*__Exercise 3__*"
   ]
  },
  {
   "cell_type": "markdown",
   "id": "8f62eeb3",
   "metadata": {},
   "source": [
    "In this notebook, DataScience Tools and Ecosystem are summerized.\n"
   ]
  },
  {
   "cell_type": "markdown",
   "id": "64307d1a",
   "metadata": {},
   "source": [
    "__Exercise 10__"
   ]
  },
  {
   "cell_type": "markdown",
   "id": "67aae919",
   "metadata": {},
   "source": [
    "__Objectives__\n",
    "* list popular languages in data science\n",
    "* Some commonly used libraries by Data Scientist\n",
    "* Data Science Tools\n",
    "* Arithmetic Expression\n",
    "* Multiply and add numbers\n",
    "* Convert minutes to hours\n"
   ]
  },
  {
   "cell_type": "markdown",
   "id": "818c4f68",
   "metadata": {},
   "source": [
    "*__Exercise 4__*"
   ]
  },
  {
   "cell_type": "markdown",
   "id": "60ca4dfa",
   "metadata": {},
   "source": [
    "Some og the popular languages that Data Scientists use are:\n",
    "1. Python\n",
    "2. R\n",
    "3. SQL\n",
    "4. scala\n",
    "5. java\n",
    "6. c++\n",
    "7. Julia"
   ]
  },
  {
   "cell_type": "markdown",
   "id": "1cb8dc45",
   "metadata": {},
   "source": [
    "*__Exercise 5__*"
   ]
  },
  {
   "cell_type": "markdown",
   "id": "c2034ac3",
   "metadata": {},
   "source": [
    "Some of the commonly used libraries used by Data Scientists include:\n",
    "1. Pandas\n",
    "2. NumPy\n",
    "3. Matplotlib\n",
    "4. SciPy"
   ]
  },
  {
   "cell_type": "markdown",
   "id": "94d26740",
   "metadata": {},
   "source": [
    "*__Exercise 6__*"
   ]
  },
  {
   "cell_type": "markdown",
   "id": "e979cfa4",
   "metadata": {},
   "source": [
    "#table for Data Science Tools#\n",
    "|Data Science Tools|\n",
    "|-----|\n",
    "|Jupiter Notebook|\n",
    "|Watson Studio|\n",
    "|Watson Open Scale|\n",
    "|GitHub|"
   ]
  },
  {
   "cell_type": "markdown",
   "id": "1fd4063e",
   "metadata": {},
   "source": [
    "*__Exercise 7 arithmatic expression__*"
   ]
  },
  {
   "cell_type": "markdown",
   "id": "9ca66075",
   "metadata": {},
   "source": [
    "### Below are a few examples of evaluating arithmatic expressions in Python ###"
   ]
  },
  {
   "cell_type": "code",
   "execution_count": 1,
   "id": "1186085b",
   "metadata": {},
   "outputs": [
    {
     "data": {
      "text/plain": [
       "11"
      ]
     },
     "execution_count": 1,
     "metadata": {},
     "output_type": "execute_result"
    }
   ],
   "source": [
    "5+6"
   ]
  },
  {
   "cell_type": "code",
   "execution_count": 2,
   "id": "f07770cb",
   "metadata": {},
   "outputs": [
    {
     "data": {
      "text/plain": [
       "44"
      ]
     },
     "execution_count": 2,
     "metadata": {},
     "output_type": "execute_result"
    }
   ],
   "source": [
    "32+12"
   ]
  },
  {
   "cell_type": "markdown",
   "id": "f17b0532",
   "metadata": {},
   "source": [
    "This is a simple arithmatic expression to multiply then add integers.\n",
    "(3*4)+5"
   ]
  },
  {
   "cell_type": "code",
   "execution_count": 3,
   "id": "38a02ba1",
   "metadata": {},
   "outputs": [
    {
     "data": {
      "text/plain": [
       "17"
      ]
     },
     "execution_count": 3,
     "metadata": {},
     "output_type": "execute_result"
    }
   ],
   "source": [
    "(3*4)+5"
   ]
  },
  {
   "cell_type": "markdown",
   "id": "ccaa3a8c",
   "metadata": {},
   "source": [
    "This will convert 200 minutes to hours by dividing by 60:"
   ]
  },
  {
   "cell_type": "markdown",
   "id": "a9902267",
   "metadata": {},
   "source": [
    "200 min=200/60hours"
   ]
  },
  {
   "cell_type": "markdown",
   "id": "c013299d",
   "metadata": {},
   "source": [
    "200 min= 3.33 hrs"
   ]
  },
  {
   "cell_type": "code",
   "execution_count": 12,
   "id": "31d3bccb",
   "metadata": {},
   "outputs": [
    {
     "name": "stdout",
     "output_type": "stream",
     "text": [
      "3.3333333333333335\n"
     ]
    }
   ],
   "source": [
    "t=200\n",
    "a=t/60\n",
    "print(a)"
   ]
  },
  {
   "cell_type": "markdown",
   "id": "2150c8c5",
   "metadata": {},
   "source": [
    "__Exercise11__"
   ]
  },
  {
   "cell_type": "markdown",
   "id": "7d89a669",
   "metadata": {},
   "source": [
    "#Author's name#"
   ]
  },
  {
   "cell_type": "markdown",
   "id": "a4fefcc1",
   "metadata": {},
   "source": [
    "## Author ##\n",
    "\n",
    "Bhagyashri Jog"
   ]
  },
  {
   "cell_type": "code",
   "execution_count": null,
   "id": "40f68a60",
   "metadata": {},
   "outputs": [],
   "source": []
  }
 ],
 "metadata": {
  "kernelspec": {
   "display_name": "Python 3 (ipykernel)",
   "language": "python",
   "name": "python3"
  },
  "language_info": {
   "codemirror_mode": {
    "name": "ipython",
    "version": 3
   },
   "file_extension": ".py",
   "mimetype": "text/x-python",
   "name": "python",
   "nbconvert_exporter": "python",
   "pygments_lexer": "ipython3",
   "version": "3.10.10"
  }
 },
 "nbformat": 4,
 "nbformat_minor": 5
}
